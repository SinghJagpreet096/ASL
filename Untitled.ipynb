{
 "cells": [
  {
   "cell_type": "code",
   "execution_count": 1,
   "id": "40cb1662",
   "metadata": {},
   "outputs": [],
   "source": [
    "from tensorflow import keras\n",
    "\n",
    "# Load the trained model\n",
    "model = keras.models.load_model('signWageM1.h5',compile=False)"
   ]
  },
  {
   "cell_type": "code",
   "execution_count": 2,
   "id": "8c11240d",
   "metadata": {},
   "outputs": [
    {
     "name": "stdout",
     "output_type": "stream",
     "text": [
      "1/1 [==============================] - 0s 83ms/step\n"
     ]
    },
    {
     "name": "stderr",
     "output_type": "stream",
     "text": [
      "2023-07-05 14:35:21.214598: W tensorflow/core/platform/profile_utils/cpu_utils.cc:128] Failed to get CPU frequency: 0 Hz\n"
     ]
    },
    {
     "name": "stdout",
     "output_type": "stream",
     "text": [
      "1/1 [==============================] - 0s 12ms/step\n"
     ]
    },
    {
     "ename": "",
     "evalue": "",
     "output_type": "error",
     "traceback": [
      "\u001b[1;31mThe Kernel crashed while executing code in the the current cell or a previous cell. Please review the code in the cell(s) to identify a possible cause of the failure. Click <a href='https://aka.ms/vscodeJupyterKernelCrash'>here</a> for more info. View Jupyter <a href='command:jupyter.viewOutput'>log</a> for further details."
     ]
    }
   ],
   "source": [
    "import cv2\n",
    "import numpy as np\n",
    "\n",
    "# Function to preprocess the image\n",
    "def preprocess_image(image):\n",
    "    # Convert image to grayscale\n",
    "    gray = cv2.cvtColor(image, cv2.COLOR_BGR2GRAY)\n",
    "    # Resize the image to 28x28 pixels\n",
    "    resized = cv2.resize(gray, (28, 28), interpolation=cv2.INTER_AREA)\n",
    "    # Reshape the image to match the model input shape\n",
    "    reshaped = resized.reshape(1, 28, 28, 1)\n",
    "    # Normalize the image\n",
    "    normalized = reshaped.astype('float32') / 255\n",
    "    return normalized\n",
    "\n",
    "# Function to predict the digit\n",
    "def predict_digit(image):\n",
    "    preprocessed = preprocess_image(image)\n",
    "    prediction = model.predict(preprocessed)\n",
    "    digit = np.argmax(prediction)\n",
    "    return digit\n",
    "\n",
    "# Capture image from webcam\n",
    "cap = cv2.VideoCapture(0)\n",
    "\n",
    "while True:\n",
    "    # Read the frame from the webcam\n",
    "    ret, frame = cap.read()\n",
    "\n",
    "    # Display the frame\n",
    "    cv2.imshow('Webcam', frame)\n",
    "\n",
    "    # Detect key press\n",
    "    key = cv2.waitKey(1)\n",
    "    if key == ord('c'):\n",
    "        # Capture the frame\n",
    "        captured_image = frame.copy()\n",
    "\n",
    "        # Preprocess and predict the digit\n",
    "        digit = predict_digit(captured_image)\n",
    "\n",
    "        # Display the predicted digit\n",
    "        cv2.putText(captured_image, f\"Digit: {digit}\", (10, 30), cv2.FONT_HERSHEY_SIMPLEX, 1, (0, 255, 0), 2)\n",
    "        cv2.imshow('Captured Image', captured_image)\n",
    "\n",
    "    elif key == ord('q'):\n",
    "        break\n",
    "\n",
    "# Release the video capture and close windows\n",
    "cap.release()\n",
    "cv2.destroyAllWindows()\n"
   ]
  },
  {
   "cell_type": "code",
   "execution_count": 2,
   "id": "31205259",
   "metadata": {},
   "outputs": [],
   "source": [
    "import cv2\n",
    "import numpy as np\n",
    "\n",
    "# Load the imagec\n",
    "image = cv2.imread('hand.jpg')\n",
    "\n",
    "# Convert the image to grayscale\n",
    "gray = cv2.cvtColor(image, cv2.COLOR_BGR2GRAY)\n",
    "\n",
    "# Apply image processing techniques to isolate the hand region\n",
    "_, threshold = cv2.threshold(gray, 100, 255, cv2.THRESH_BINARY)\n",
    "threshold = cv2.morphologyEx(threshold, cv2.MORPH_OPEN, np.ones((3, 3), dtype=np.uint8))\n",
    "\n",
    "# Find contours in the processed image\n",
    "contours, _ = cv2.findContours(threshold, cv2.RETR_EXTERNAL, cv2.CHAIN_APPROX_SIMPLE)\n",
    "\n",
    "# Iterate through the contours and find the contour with the largest area\n",
    "max_area = 0\n",
    "hand_contour = None\n",
    "for contour in contours:\n",
    "    area = cv2.contourArea(contour)\n",
    "    if area > max_area:\n",
    "        max_area = area\n",
    "        hand_contour = contour\n",
    "\n",
    "# Draw a bounding rectangle around the detected hand\n",
    "if hand_contour is not None:\n",
    "    x, y, w, h = cv2.boundingRect(hand_contour)\n",
    "    cv2.rectangle(image, (x, y), (x + w, y + h), (0, 255, 0), 2)\n",
    "\n",
    "# Display the image with the bounding rectangle\n",
    "cv2.imshow('Hand Detection', image)\n",
    "cv2.waitKey(0)\n",
    "cv2.destroyAllWindows()\n"
   ]
  },
  {
   "cell_type": "code",
   "execution_count": 3,
   "id": "6c89cd0d",
   "metadata": {},
   "outputs": [
    {
     "name": "stderr",
     "output_type": "stream",
     "text": [
      "INFO: Created TensorFlow Lite XNNPACK delegate for CPU.\n",
      "/Users/devk/anaconda3/lib/python3.10/site-packages/google/protobuf/symbol_database.py:78: UserWarning: SymbolDatabase.GetPrototype() is deprecated. Please use message_factory.GetMessageClass() instead. SymbolDatabase.GetPrototype() will be removed soon.\n",
      "  Returns:\n"
     ]
    },
    {
     "ename": "TypeError",
     "evalue": "string indices must be integers",
     "output_type": "error",
     "traceback": [
      "\u001b[0;31m---------------------------------------------------------------------------\u001b[0m",
      "\u001b[0;31mTypeError\u001b[0m                                 Traceback (most recent call last)",
      "Cell \u001b[0;32mIn[3], line 48\u001b[0m\n\u001b[1;32m     44\u001b[0m \u001b[39mfor\u001b[39;00m i \u001b[39min\u001b[39;00m results\u001b[39m.\u001b[39mmulti_handedness:\n\u001b[1;32m     45\u001b[0m     \n\u001b[1;32m     46\u001b[0m     \u001b[39m# Return whether it is Right or Left Hand\u001b[39;00m\n\u001b[1;32m     47\u001b[0m     label \u001b[39m=\u001b[39m MessageToDict(i)\n\u001b[0;32m---> 48\u001b[0m     [\u001b[39m'\u001b[39;49m\u001b[39mclassification\u001b[39;49m\u001b[39m'\u001b[39;49m][\u001b[39m0\u001b[39;49m][\u001b[39m'\u001b[39;49m\u001b[39mlabel\u001b[39;49m\u001b[39m'\u001b[39;49m]\n\u001b[1;32m     50\u001b[0m     \u001b[39mif\u001b[39;00m label \u001b[39m==\u001b[39m \u001b[39m'\u001b[39m\u001b[39mLeft\u001b[39m\u001b[39m'\u001b[39m:\n\u001b[1;32m     51\u001b[0m         \n\u001b[1;32m     52\u001b[0m         \u001b[39m# Display 'Left Hand' on\u001b[39;00m\n\u001b[1;32m     53\u001b[0m         \u001b[39m# left side of window\u001b[39;00m\n\u001b[1;32m     54\u001b[0m         cv2\u001b[39m.\u001b[39mputText(img, label\u001b[39m+\u001b[39m\u001b[39m'\u001b[39m\u001b[39m Hand\u001b[39m\u001b[39m'\u001b[39m,\n\u001b[1;32m     55\u001b[0m                     (\u001b[39m20\u001b[39m, \u001b[39m50\u001b[39m),\n\u001b[1;32m     56\u001b[0m                     cv2\u001b[39m.\u001b[39mFONT_HERSHEY_COMPLEX, \n\u001b[1;32m     57\u001b[0m                     \u001b[39m0.9\u001b[39m, (\u001b[39m0\u001b[39m, \u001b[39m255\u001b[39m, \u001b[39m0\u001b[39m), \u001b[39m2\u001b[39m)\n",
      "\u001b[0;31mTypeError\u001b[0m: string indices must be integers"
     ]
    },
    {
     "ename": "",
     "evalue": "",
     "output_type": "error",
     "traceback": [
      "\u001b[1;31mThe Kernel crashed while executing code in the the current cell or a previous cell. Please review the code in the cell(s) to identify a possible cause of the failure. Click <a href='https://aka.ms/vscodeJupyterKernelCrash'>here</a> for more info. View Jupyter <a href='command:jupyter.viewOutput'>log</a> for further details."
     ]
    }
   ],
   "source": [
    "import cv2\n",
    "import mediapipe as mp\n",
    "  \n",
    "# Used to convert protobuf message to a dictionary.\n",
    "from google.protobuf.json_format import MessageToDict\n",
    "  \n",
    "# Initializing the Model\n",
    "mpHands = mp.solutions.hands\n",
    "hands = mpHands.Hands(\n",
    "    static_image_mode=False,\n",
    "    model_complexity=1,\n",
    "    min_detection_confidence=0.75,\n",
    "    min_tracking_confidence=0.75,\n",
    "    max_num_hands=2)\n",
    "  \n",
    "# Start capturing video from webcam\n",
    "cap = cv2.VideoCapture(0)\n",
    "  \n",
    "while True:\n",
    "    # Read video frame by frame\n",
    "    success, img = cap.read()\n",
    "  \n",
    "    # Flip the image(frame)\n",
    "    img = cv2.flip(img, 1)\n",
    "  \n",
    "    # Convert BGR image to RGB image\n",
    "    imgRGB = cv2.cvtColor(img, cv2.COLOR_BGR2RGB)\n",
    "  \n",
    "    # Process the RGB image\n",
    "    results = hands.process(imgRGB)\n",
    "  \n",
    "    # If hands are present in image(frame)\n",
    "    if results.multi_hand_landmarks:\n",
    "  \n",
    "        # Both Hands are present in image(frame)\n",
    "        if len(results.multi_handedness) == 2:\n",
    "                # Display 'Both Hands' on the image\n",
    "            cv2.putText(img, 'Both Hands', (250, 50),\n",
    "                        cv2.FONT_HERSHEY_COMPLEX,\n",
    "                        0.9, (0, 255, 0), 2)\n",
    "  \n",
    "        # If any hand present\n",
    "        else:\n",
    "            for i in results.multi_handedness:\n",
    "                \n",
    "                # Return whether it is Right or Left Hand\n",
    "                label = MessageToDict(i)\n",
    "                ['classification'][0]['label']\n",
    "  \n",
    "                if label == 'Left':\n",
    "                    \n",
    "                    # Display 'Left Hand' on\n",
    "                    # left side of window\n",
    "                    cv2.putText(img, label+' Hand',\n",
    "                                (20, 50),\n",
    "                                cv2.FONT_HERSHEY_COMPLEX, \n",
    "                                0.9, (0, 255, 0), 2)\n",
    "  \n",
    "                if label == 'Right':\n",
    "                      \n",
    "                    # Display 'Left Hand'\n",
    "                    # on left side of window\n",
    "                    cv2.putText(img, label+' Hand', (460, 50),\n",
    "                                cv2.FONT_HERSHEY_COMPLEX,\n",
    "                                0.9, (0, 255, 0), 2)\n",
    "  \n",
    "    # Display Video and when 'q'\n",
    "    # is entered, destroy the window\n",
    "    cv2.imshow('Image', img)\n",
    "    if cv2.waitKey(1) & 0xff == ord('q'):\n",
    "        break"
   ]
  },
  {
   "cell_type": "code",
   "execution_count": 2,
   "id": "79fddc11",
   "metadata": {},
   "outputs": [
    {
     "name": "stdout",
     "output_type": "stream",
     "text": [
      "Collecting mediapipe\n",
      "  Downloading mediapipe-0.10.1-cp310-cp310-macosx_11_0_universal2.whl (53.2 MB)\n",
      "\u001b[2K     \u001b[38;2;114;156;31m━━━━━━━━━━━━━━━━━━━━━━━━━━━━━━━━━━━━━━━\u001b[0m \u001b[32m53.2/53.2 MB\u001b[0m \u001b[31m981.8 kB/s\u001b[0m eta \u001b[36m0:00:00\u001b[0mm eta \u001b[36m0:00:01\u001b[0m36m0:00:02\u001b[0mm\n",
      "\u001b[?25hRequirement already satisfied: absl-py in /Users/devk/anaconda3/lib/python3.10/site-packages (from mediapipe) (1.3.0)\n",
      "Requirement already satisfied: attrs>=19.1.0 in /Users/devk/anaconda3/lib/python3.10/site-packages (from mediapipe) (23.1.0)\n",
      "Requirement already satisfied: flatbuffers>=2.0 in /Users/devk/anaconda3/lib/python3.10/site-packages (from mediapipe) (23.5.26)\n",
      "Requirement already satisfied: matplotlib in /Users/devk/anaconda3/lib/python3.10/site-packages (from mediapipe) (3.7.1)\n",
      "Requirement already satisfied: numpy in /Users/devk/anaconda3/lib/python3.10/site-packages (from mediapipe) (1.25.0)\n",
      "Collecting opencv-contrib-python (from mediapipe)\n",
      "  Downloading opencv_contrib_python-4.8.0.74-cp37-abi3-macosx_11_0_arm64.whl (41.4 MB)\n",
      "\u001b[2K     \u001b[38;2;114;156;31m━━━━━━━━━━━━━━━━━━━━━━━━━━━━━━━━━━━━━━━━\u001b[0m \u001b[32m41.4/41.4 MB\u001b[0m \u001b[31m1.5 MB/s\u001b[0m eta \u001b[36m0:00:00\u001b[0mm eta \u001b[36m0:00:01\u001b[0m[36m0:00:01\u001b[0mm\n",
      "\u001b[?25hCollecting protobuf<4,>=3.11 (from mediapipe)\n",
      "  Downloading protobuf-3.20.3-py2.py3-none-any.whl (162 kB)\n",
      "\u001b[2K     \u001b[38;2;114;156;31m━━━━━━━━━━━━━━━━━━━━━━━━━━━━━━━━━━━━━━━\u001b[0m \u001b[32m162.1/162.1 kB\u001b[0m \u001b[31m1.8 MB/s\u001b[0m eta \u001b[36m0:00:00\u001b[0m MB/s\u001b[0m eta \u001b[36m0:00:01\u001b[0m\n",
      "\u001b[?25hCollecting sounddevice>=0.4.4 (from mediapipe)\n",
      "  Downloading sounddevice-0.4.6-py3-none-macosx_10_6_x86_64.macosx_10_6_universal2.whl (107 kB)\n",
      "\u001b[2K     \u001b[38;2;114;156;31m━━━━━━━━━━━━━━━━━━━━━━━━━━━━━━━━━━━━━━━\u001b[0m \u001b[32m108.0/108.0 kB\u001b[0m \u001b[31m2.7 MB/s\u001b[0m eta \u001b[36m0:00:00\u001b[0m[31m3.0 MB/s\u001b[0m eta \u001b[36m0:00:01\u001b[0m\n",
      "\u001b[?25hRequirement already satisfied: CFFI>=1.0 in /Users/devk/anaconda3/lib/python3.10/site-packages (from sounddevice>=0.4.4->mediapipe) (1.15.1)\n",
      "Requirement already satisfied: contourpy>=1.0.1 in /Users/devk/anaconda3/lib/python3.10/site-packages (from matplotlib->mediapipe) (1.0.5)\n",
      "Requirement already satisfied: cycler>=0.10 in /Users/devk/anaconda3/lib/python3.10/site-packages (from matplotlib->mediapipe) (0.11.0)\n",
      "Requirement already satisfied: fonttools>=4.22.0 in /Users/devk/anaconda3/lib/python3.10/site-packages (from matplotlib->mediapipe) (4.25.0)\n",
      "Requirement already satisfied: kiwisolver>=1.0.1 in /Users/devk/anaconda3/lib/python3.10/site-packages (from matplotlib->mediapipe) (1.4.4)\n",
      "Requirement already satisfied: packaging>=20.0 in /Users/devk/anaconda3/lib/python3.10/site-packages (from matplotlib->mediapipe) (23.1)\n",
      "Requirement already satisfied: pillow>=6.2.0 in /Users/devk/anaconda3/lib/python3.10/site-packages (from matplotlib->mediapipe) (9.5.0)\n",
      "Requirement already satisfied: pyparsing>=2.3.1 in /Users/devk/anaconda3/lib/python3.10/site-packages (from matplotlib->mediapipe) (2.4.7)\n",
      "Requirement already satisfied: python-dateutil>=2.7 in /Users/devk/anaconda3/lib/python3.10/site-packages (from matplotlib->mediapipe) (2.8.2)\n",
      "Requirement already satisfied: pycparser in /Users/devk/anaconda3/lib/python3.10/site-packages (from CFFI>=1.0->sounddevice>=0.4.4->mediapipe) (2.21)\n",
      "Requirement already satisfied: six>=1.5 in /Users/devk/anaconda3/lib/python3.10/site-packages (from python-dateutil>=2.7->matplotlib->mediapipe) (1.16.0)\n",
      "Installing collected packages: protobuf, opencv-contrib-python, sounddevice, mediapipe\n",
      "  Attempting uninstall: protobuf\n",
      "    Found existing installation: protobuf 4.23.3\n",
      "    Uninstalling protobuf-4.23.3:\n",
      "      Successfully uninstalled protobuf-4.23.3\n",
      "\u001b[31mERROR: pip's dependency resolver does not currently take into account all the packages that are installed. This behaviour is the source of the following dependency conflicts.\n",
      "tensorflow 2.10.0 requires libclang>=13.0.0, which is not installed.\n",
      "tensorflow 2.10.0 requires tensorflow-io-gcs-filesystem>=0.23.1, which is not installed.\n",
      "tensorboard 2.10.0 requires protobuf<3.20,>=3.9.2, but you have protobuf 3.20.3 which is incompatible.\n",
      "tensorflow 2.10.0 requires protobuf<3.20,>=3.9.2, but you have protobuf 3.20.3 which is incompatible.\u001b[0m\u001b[31m\n",
      "\u001b[0mSuccessfully installed mediapipe-0.10.1 opencv-contrib-python-4.8.0.74 protobuf-3.20.3 sounddevice-0.4.6\n",
      "Note: you may need to restart the kernel to use updated packages.\n"
     ]
    }
   ],
   "source": [
    "pip install mediapipe"
   ]
  },
  {
   "cell_type": "code",
   "execution_count": null,
   "id": "15063131",
   "metadata": {},
   "outputs": [],
   "source": []
  }
 ],
 "metadata": {
  "kernelspec": {
   "display_name": "Python 3 (ipykernel)",
   "language": "python",
   "name": "python3"
  },
  "language_info": {
   "codemirror_mode": {
    "name": "ipython",
    "version": 3
   },
   "file_extension": ".py",
   "mimetype": "text/x-python",
   "name": "python",
   "nbconvert_exporter": "python",
   "pygments_lexer": "ipython3",
   "version": "3.10.11"
  }
 },
 "nbformat": 4,
 "nbformat_minor": 5
}
