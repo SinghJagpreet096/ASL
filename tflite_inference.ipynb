{
 "cells": [
  {
   "cell_type": "code",
   "execution_count": 2,
   "metadata": {},
   "outputs": [],
   "source": [
    "import pandas as pd\n",
    "import numpy as np\n",
    "import tensorflow as tf\n",
    "\n",
    "\n",
    "\n",
    "\n",
    "ROWS_PER_FRAME = 543  # number of landmarks per frame\n",
    "\n",
    "def load_relevant_data_subset(pq_path):\n",
    "    data_columns = ['x', 'y', 'z']\n",
    "    data = pd.read_parquet(pq_path, columns=data_columns)\n",
    "    n_frames = int(len(data) / ROWS_PER_FRAME)\n",
    "    data = data.values.reshape(n_frames, ROWS_PER_FRAME, len(data_columns))\n",
    "    return data.astype(np.float32)"
   ]
  },
  {
   "cell_type": "code",
   "execution_count": 3,
   "metadata": {},
   "outputs": [],
   "source": [
    "# !pip install tflite-runtime\n",
    "# import tflite_runtime.interpreter as tflite\n",
    "\n",
    "\n",
    "interpreter = tf.lite.Interpreter(\"model.tflite\")\n",
    "found_signatures = list(interpreter.get_signature_list().keys())\n",
    "prediction_fn = interpreter.get_signature_runner(\"serving_default\")\n",
    "\n",
    "# output = prediction_fn(inputs=demo_raw_data)\n",
    "# sign = output['outputs'].argmax()\n",
    "\n",
    "# print(\"PRED : \", ORD2SIGN.get(sign), f'[{sign}]')\n",
    "# print(\"TRUE : \", train.sign.values[0], f'[{train.sign_ord.values[0]}]')"
   ]
  },
  {
   "cell_type": "code",
   "execution_count": 16,
   "metadata": {},
   "outputs": [],
   "source": [
    "# Add ordinally Encoded Sign (assign number to each sign name)\\\n",
    "train = pd.read_csv('train.csv.zip')\n",
    "train['sign_ord'] = train['sign'].astype('category').cat.codes\n",
    "\n",
    "# Dictionaries to translate sign <-> ordinal encoded sign\n",
    "SIGN2ORD = train[['sign', 'sign_ord']].set_index('sign').squeeze().to_dict()\n",
    "ORD2SIGN = train[['sign_ord', 'sign']].set_index('sign_ord').squeeze().to_dict()"
   ]
  },
  {
   "cell_type": "code",
   "execution_count": 19,
   "metadata": {},
   "outputs": [
    {
     "data": {
      "text/plain": [
       "'duck'"
      ]
     },
     "execution_count": 19,
     "metadata": {},
     "output_type": "execute_result"
    }
   ],
   "source": [
    "pq_file = \"output.parquet\"\n",
    "def prediction_func(pq_file):\n",
    "\n",
    "    ## defining the model \n",
    "    interpreter = tf.lite.Interpreter(\"model.tflite\")\n",
    "    found_signatures = list(interpreter.get_signature_list().keys())\n",
    "    prediction_fn = interpreter.get_signature_runner(\"serving_default\")\n",
    "\n",
    "    \n",
    "    # Add ordinally Encoded Sign (assign number to each sign name)\\\n",
    "    train = pd.read_csv('train.csv.zip')\n",
    "    train['sign_ord'] = train['sign'].astype('category').cat.codes\n",
    "\n",
    "    # Dictionaries to translate sign <-> ordinal encoded sign\n",
    "    SIGN2ORD = train[['sign', 'sign_ord']].set_index('sign').squeeze().to_dict()\n",
    "    ORD2SIGN = train[['sign_ord', 'sign']].set_index('sign_ord').squeeze().to_dict()\n",
    "\n",
    "    ## load data from output parquet\n",
    "    xyz_np = load_relevant_data_subset(pq_file)\n",
    "    prediction = prediction_fn(inputs=xyz_np)\n",
    "    sign = prediction['outputs'].argmax()\n",
    "    return ORD2SIGN[sign]\n",
    "\n"
   ]
  },
  {
   "cell_type": "code",
   "execution_count": 18,
   "metadata": {},
   "outputs": [
    {
     "data": {
      "text/plain": [
       "'duck'"
      ]
     },
     "execution_count": 18,
     "metadata": {},
     "output_type": "execute_result"
    }
   ],
   "source": [
    "\n",
    "# pd.Series(prediction['outputs']).plot(figsize=(10,4))"
   ]
  },
  {
   "cell_type": "code",
   "execution_count": 15,
   "metadata": {},
   "outputs": [
    {
     "data": {
      "text/html": [
       "<div>\n",
       "<style scoped>\n",
       "    .dataframe tbody tr th:only-of-type {\n",
       "        vertical-align: middle;\n",
       "    }\n",
       "\n",
       "    .dataframe tbody tr th {\n",
       "        vertical-align: top;\n",
       "    }\n",
       "\n",
       "    .dataframe thead th {\n",
       "        text-align: right;\n",
       "    }\n",
       "</style>\n",
       "<table border=\"1\" class=\"dataframe\">\n",
       "  <thead>\n",
       "    <tr style=\"text-align: right;\">\n",
       "      <th></th>\n",
       "      <th>path</th>\n",
       "      <th>participant_id</th>\n",
       "      <th>sequence_id</th>\n",
       "      <th>sign</th>\n",
       "      <th>sign_ord</th>\n",
       "    </tr>\n",
       "  </thead>\n",
       "  <tbody>\n",
       "    <tr>\n",
       "      <th>79</th>\n",
       "      <td>train_landmark_files/37055/1003109377.parquet</td>\n",
       "      <td>37055</td>\n",
       "      <td>1003109377</td>\n",
       "      <td>shhh</td>\n",
       "      <td>194</td>\n",
       "    </tr>\n",
       "    <tr>\n",
       "      <th>418</th>\n",
       "      <td>train_landmark_files/18796/1017029978.parquet</td>\n",
       "      <td>18796</td>\n",
       "      <td>1017029978</td>\n",
       "      <td>shhh</td>\n",
       "      <td>194</td>\n",
       "    </tr>\n",
       "    <tr>\n",
       "      <th>546</th>\n",
       "      <td>train_landmark_files/18796/1023157153.parquet</td>\n",
       "      <td>18796</td>\n",
       "      <td>1023157153</td>\n",
       "      <td>shhh</td>\n",
       "      <td>194</td>\n",
       "    </tr>\n",
       "    <tr>\n",
       "      <th>705</th>\n",
       "      <td>train_landmark_files/18796/1029866550.parquet</td>\n",
       "      <td>18796</td>\n",
       "      <td>1029866550</td>\n",
       "      <td>shhh</td>\n",
       "      <td>194</td>\n",
       "    </tr>\n",
       "    <tr>\n",
       "      <th>732</th>\n",
       "      <td>train_landmark_files/4718/1030999521.parquet</td>\n",
       "      <td>4718</td>\n",
       "      <td>1030999521</td>\n",
       "      <td>shhh</td>\n",
       "      <td>194</td>\n",
       "    </tr>\n",
       "    <tr>\n",
       "      <th>...</th>\n",
       "      <td>...</td>\n",
       "      <td>...</td>\n",
       "      <td>...</td>\n",
       "      <td>...</td>\n",
       "      <td>...</td>\n",
       "    </tr>\n",
       "    <tr>\n",
       "      <th>93588</th>\n",
       "      <td>train_landmark_files/36257/962546588.parquet</td>\n",
       "      <td>36257</td>\n",
       "      <td>962546588</td>\n",
       "      <td>shhh</td>\n",
       "      <td>194</td>\n",
       "    </tr>\n",
       "    <tr>\n",
       "      <th>93982</th>\n",
       "      <td>train_landmark_files/37779/979999637.parquet</td>\n",
       "      <td>37779</td>\n",
       "      <td>979999637</td>\n",
       "      <td>shhh</td>\n",
       "      <td>194</td>\n",
       "    </tr>\n",
       "    <tr>\n",
       "      <th>94031</th>\n",
       "      <td>train_landmark_files/37055/981603802.parquet</td>\n",
       "      <td>37055</td>\n",
       "      <td>981603802</td>\n",
       "      <td>shhh</td>\n",
       "      <td>194</td>\n",
       "    </tr>\n",
       "    <tr>\n",
       "      <th>94376</th>\n",
       "      <td>train_landmark_files/25571/99567121.parquet</td>\n",
       "      <td>25571</td>\n",
       "      <td>99567121</td>\n",
       "      <td>shhh</td>\n",
       "      <td>194</td>\n",
       "    </tr>\n",
       "    <tr>\n",
       "      <th>94398</th>\n",
       "      <td>train_landmark_files/27610/996627508.parquet</td>\n",
       "      <td>27610</td>\n",
       "      <td>996627508</td>\n",
       "      <td>shhh</td>\n",
       "      <td>194</td>\n",
       "    </tr>\n",
       "  </tbody>\n",
       "</table>\n",
       "<p>411 rows × 5 columns</p>\n",
       "</div>"
      ],
      "text/plain": [
       "                                                path  participant_id  \\\n",
       "79     train_landmark_files/37055/1003109377.parquet           37055   \n",
       "418    train_landmark_files/18796/1017029978.parquet           18796   \n",
       "546    train_landmark_files/18796/1023157153.parquet           18796   \n",
       "705    train_landmark_files/18796/1029866550.parquet           18796   \n",
       "732     train_landmark_files/4718/1030999521.parquet            4718   \n",
       "...                                              ...             ...   \n",
       "93588   train_landmark_files/36257/962546588.parquet           36257   \n",
       "93982   train_landmark_files/37779/979999637.parquet           37779   \n",
       "94031   train_landmark_files/37055/981603802.parquet           37055   \n",
       "94376    train_landmark_files/25571/99567121.parquet           25571   \n",
       "94398   train_landmark_files/27610/996627508.parquet           27610   \n",
       "\n",
       "       sequence_id  sign  sign_ord  \n",
       "79      1003109377  shhh       194  \n",
       "418     1017029978  shhh       194  \n",
       "546     1023157153  shhh       194  \n",
       "705     1029866550  shhh       194  \n",
       "732     1030999521  shhh       194  \n",
       "...            ...   ...       ...  \n",
       "93588    962546588  shhh       194  \n",
       "93982    979999637  shhh       194  \n",
       "94031    981603802  shhh       194  \n",
       "94376     99567121  shhh       194  \n",
       "94398    996627508  shhh       194  \n",
       "\n",
       "[411 rows x 5 columns]"
      ]
     },
     "execution_count": 15,
     "metadata": {},
     "output_type": "execute_result"
    }
   ],
   "source": [
    "# train.query(\"sign=='shhh'\")"
   ]
  },
  {
   "cell_type": "code",
   "execution_count": null,
   "metadata": {},
   "outputs": [],
   "source": []
  }
 ],
 "metadata": {
  "kernelspec": {
   "display_name": "asl",
   "language": "python",
   "name": "python3"
  },
  "language_info": {
   "codemirror_mode": {
    "name": "ipython",
    "version": 3
   },
   "file_extension": ".py",
   "mimetype": "text/x-python",
   "name": "python",
   "nbconvert_exporter": "python",
   "pygments_lexer": "ipython3",
   "version": "3.10.12"
  },
  "orig_nbformat": 4
 },
 "nbformat": 4,
 "nbformat_minor": 2
}
